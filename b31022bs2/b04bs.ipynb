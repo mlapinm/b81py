{
 "cells": [
  {
   "cell_type": "code",
   "execution_count": 5,
   "metadata": {},
   "outputs": [
    {
     "ename": "SyntaxError",
     "evalue": "invalid syntax (1455822792.py, line 1)",
     "output_type": "error",
     "traceback": [
      "\u001b[1;36m  File \u001b[1;32m\"C:\\Users\\User\\AppData\\Local\\Temp\\ipykernel_15644\\1455822792.py\"\u001b[1;36m, line \u001b[1;32m1\u001b[0m\n\u001b[1;33m    pip install bs4\u001b[0m\n\u001b[1;37m              ^\u001b[0m\n\u001b[1;31mSyntaxError\u001b[0m\u001b[1;31m:\u001b[0m invalid syntax\n"
     ]
    }
   ],
   "source": [
    "pip install bs4\n",
    "pip install lxml"
   ]
  },
  {
   "cell_type": "markdown",
   "metadata": {},
   "source": [
    "### BS"
   ]
  },
  {
   "cell_type": "code",
   "execution_count": 26,
   "metadata": {},
   "outputs": [
    {
     "name": "stdout",
     "output_type": "stream",
     "text": [
      "bold\n",
      "['text', 'odd']\n",
      "<p class=\"text even\">111</p>\n"
     ]
    }
   ],
   "source": [
    "s = '''\n",
    "<body id=\"js-body\">\n",
    "  <p class=\"text odd\">\n",
    "    first\n",
    "    <b>bold</b>\n",
    "    paragraph\n",
    "  </p>\n",
    "  <p class=\"text even\">111</p>\n",
    "  <p class=\"list odd\">222</p>\n",
    "</body>\n",
    "'''\n",
    "from bs4 import BeautifulSoup\n",
    "soup = BeautifulSoup(s, 'lxml')\n",
    "print(soup.p.b.string)\n",
    "print(soup.p['class'])\n",
    "print(soup('p')[1])"
   ]
  },
  {
   "cell_type": "code",
   "execution_count": 15,
   "metadata": {},
   "outputs": [
    {
     "name": "stdout",
     "output_type": "stream",
     "text": [
      "bold\n",
      "['text', 'odd']\n",
      "<p class=\"text even\">111</p>\n"
     ]
    }
   ],
   "source": []
  },
  {
   "cell_type": "code",
   "execution_count": 16,
   "metadata": {},
   "outputs": [
    {
     "name": "stdout",
     "output_type": "stream",
     "text": [
      "<html>\n",
      " <body>\n",
      "  <p class=\"text odd\">\n",
      "   first\n",
      "   <b>\n",
      "    bold\n",
      "   </b>\n",
      "   paragraph\n",
      "  </p>\n",
      "  <p class=\"text even\">\n",
      "   111\n",
      "  </p>\n",
      "  <p class=\"list odd\">\n",
      "   222\n",
      "  </p>\n",
      " </body>\n",
      "</html>\n"
     ]
    }
   ],
   "source": [
    "print(soup.prettify())"
   ]
  },
  {
   "cell_type": "code",
   "execution_count": 17,
   "metadata": {},
   "outputs": [
    {
     "data": {
      "text/plain": [
       "<p class=\"text odd\">\n",
       "    first\n",
       "    <b>bold</b>\n",
       "    paragraph\n",
       "  </p>"
      ]
     },
     "execution_count": 17,
     "metadata": {},
     "output_type": "execute_result"
    }
   ],
   "source": [
    "soup.pb"
   ]
  },
  {
   "cell_type": "code",
   "execution_count": 18,
   "metadata": {},
   "outputs": [
    {
     "data": {
      "text/plain": [
       "<b>bold</b>"
      ]
     },
     "execution_count": 18,
     "metadata": {},
     "output_type": "execute_result"
    }
   ],
   "source": [
    "soup.p.b"
   ]
  },
  {
   "cell_type": "code",
   "execution_count": 21,
   "metadata": {},
   "outputs": [
    {
     "data": {
      "text/plain": [
       "<b>bold</b>"
      ]
     },
     "execution_count": 21,
     "metadata": {},
     "output_type": "execute_result"
    }
   ],
   "source": [
    "soup.b"
   ]
  },
  {
   "cell_type": "code",
   "execution_count": 22,
   "metadata": {},
   "outputs": [
    {
     "data": {
      "text/plain": [
       "'b'"
      ]
     },
     "execution_count": 22,
     "metadata": {},
     "output_type": "execute_result"
    }
   ],
   "source": [
    "soup.b.name"
   ]
  },
  {
   "cell_type": "code",
   "execution_count": 23,
   "metadata": {},
   "outputs": [
    {
     "data": {
      "text/plain": [
       "['text', 'odd']"
      ]
     },
     "execution_count": 23,
     "metadata": {},
     "output_type": "execute_result"
    }
   ],
   "source": [
    "soup.p['class']"
   ]
  },
  {
   "cell_type": "code",
   "execution_count": 27,
   "metadata": {},
   "outputs": [
    {
     "data": {
      "text/plain": [
       "'js-body'"
      ]
     },
     "execution_count": 27,
     "metadata": {},
     "output_type": "execute_result"
    }
   ],
   "source": [
    "soup.body['id']"
   ]
  },
  {
   "cell_type": "code",
   "execution_count": 28,
   "metadata": {},
   "outputs": [
    {
     "data": {
      "text/plain": [
       "<p class=\"text odd\">\n",
       "    first\n",
       "    <b>bold</b>\n",
       "    paragraph\n",
       "  </p>"
      ]
     },
     "execution_count": 28,
     "metadata": {},
     "output_type": "execute_result"
    }
   ],
   "source": [
    "soup.b.parent"
   ]
  },
  {
   "cell_type": "code",
   "execution_count": 30,
   "metadata": {},
   "outputs": [
    {
     "data": {
      "text/plain": [
       "['p', 'body', 'html', '[document]']"
      ]
     },
     "execution_count": 30,
     "metadata": {},
     "output_type": "execute_result"
    }
   ],
   "source": [
    "[tag.name for tag in soup.b.parents]"
   ]
  },
  {
   "cell_type": "code",
   "execution_count": 32,
   "metadata": {},
   "outputs": [
    {
     "data": {
      "text/plain": [
       "'\\n    first\\n    '"
      ]
     },
     "execution_count": 32,
     "metadata": {},
     "output_type": "execute_result"
    }
   ],
   "source": [
    "soup.p.next"
   ]
  },
  {
   "cell_type": "code",
   "execution_count": 33,
   "metadata": {},
   "outputs": [
    {
     "data": {
      "text/plain": [
       "'\\n'"
      ]
     },
     "execution_count": 33,
     "metadata": {},
     "output_type": "execute_result"
    }
   ],
   "source": [
    "soup.p.next_sibling"
   ]
  },
  {
   "cell_type": "code",
   "execution_count": 35,
   "metadata": {},
   "outputs": [
    {
     "data": {
      "text/plain": [
       "[None, 'p', None, 'p', None, 'p', None]"
      ]
     },
     "execution_count": 35,
     "metadata": {},
     "output_type": "execute_result"
    }
   ],
   "source": [
    "[e.name for e in soup.body.contents]"
   ]
  },
  {
   "cell_type": "code",
   "execution_count": 54,
   "metadata": {},
   "outputs": [
    {
     "name": "stdout",
     "output_type": "stream",
     "text": [
      "<html><body><h4><span id=\"Later_Stone_Age_.28LSA.29\"></span><span class=\"mw-headline\" id=\"Later_Stone_Age_(LSA)\">Later Stone Age (LSA)</span></h4>\n",
      "</body></html>\n"
     ]
    }
   ],
   "source": [
    "s2 = '''\n",
    "<h4><span id=\"Later_Stone_Age_.28LSA.29\"></span><span class=\"mw-headline\" id=\"Later_Stone_Age_(LSA)\">Later Stone Age (LSA)</span></h4>\n",
    "'''\n",
    "soup = BeautifulSoup(s2, 'lxml')\n",
    "print(soup)"
   ]
  },
  {
   "cell_type": "code",
   "execution_count": 71,
   "metadata": {},
   "outputs": [
    {
     "name": "stdout",
     "output_type": "stream",
     "text": [
      "22\n",
      "22\n"
     ]
    }
   ],
   "source": [
    "s2 = '''\n",
    "<a href = '22'>11</a>\n",
    "<a href = '22'>11</a>\n",
    "'''\n",
    "soup = BeautifulSoup(s2, 'lxml')\n",
    "for e in soup('a'):\n",
    "  print(e['href'])\n",
    "# print(soup('a'))"
   ]
  },
  {
   "cell_type": "markdown",
   "metadata": {},
   "source": [
    "### dict of dicts"
   ]
  },
  {
   "cell_type": "code",
   "execution_count": 112,
   "metadata": {},
   "outputs": [
    {
     "name": "stdout",
     "output_type": "stream",
     "text": [
      "{'a': {'a': {}}}\n"
     ]
    }
   ],
   "source": [
    "k = dict()\n",
    "i = 'a'\n",
    "k[i]=dict()\n",
    "b = k[i]\n",
    "b[i]=dict()\n",
    "print(k)"
   ]
  },
  {
   "cell_type": "code",
   "execution_count": 148,
   "metadata": {},
   "outputs": [
    {
     "name": "stdout",
     "output_type": "stream",
     "text": [
      "{0: {1: {}}}\n"
     ]
    }
   ],
   "source": [
    "k = dict()\n",
    "k[0] = dict()\n",
    "b = k[0]\n",
    "for e in range(1, 2):\n",
    "  b[e] = dict()\n",
    "  b = b[e]\n",
    "\n",
    "print(k)"
   ]
  },
  {
   "cell_type": "code",
   "execution_count": 204,
   "metadata": {},
   "outputs": [
    {
     "name": "stdout",
     "output_type": "stream",
     "text": [
      "[('x', {})]\n",
      "[('x', {'a': {}, 'b': {}}), ('y', {})]\n",
      "{'x': {'a': {}, 'b': {}}, 'y': {'c': {}, 'd': {}}}\n"
     ]
    }
   ],
   "source": [
    "k = dict()\n",
    "\n",
    "l = [['a', 'b'], ['c', 'd']]\n",
    "w = ['x', 'y']\n",
    "for i in range(2):\n",
    "  o = w[i]\n",
    "  k[o] = dict()\n",
    "  b = k[o]\n",
    "  # if i == 1:\n",
    "  print([(i,e) for i, e in k.items()])\n",
    "  for e in l[i]:\n",
    "    b[e] = dict()\n",
    "  b = b[e]\n",
    "\n",
    "print(k)"
   ]
  },
  {
   "cell_type": "markdown",
   "metadata": {},
   "source": [
    "### list references"
   ]
  },
  {
   "cell_type": "code",
   "execution_count": 301,
   "metadata": {},
   "outputs": [
    {
     "name": "stdout",
     "output_type": "stream",
     "text": [
      "{49: 1, 50: 2, 51: 1, 52: 2, 53: 1, 54: 1, 55: 1}\n",
      "parents = [[49, [53]], [50, [49, 54]], [51, [50]], [52, [51, 55]], [53, [52]], [54, [52]], [55, [51]]]\n",
      "0 [55, [51]]\n",
      "1 [51, [50]]\n",
      "111 [51, [50]] 51\n",
      "[55, 51, 50] 50 55 [55, [51]]\n"
     ]
    }
   ],
   "source": [
    "\n",
    "refs = [*range(7)]\n",
    "refs[0] = [49, [50]]\n",
    "refs[1] = [50, [51]]\n",
    "refs[2] = [51, [52, 55]]\n",
    "refs[3] = [52, [53, 54]]\n",
    "refs[4] = [53, [49]]\n",
    "refs[5] = [54, [50]]\n",
    "refs[6] = [55, [52]]\n",
    "\n",
    "def get_n(v):\n",
    "  n = 0\n",
    "  for e in refs:\n",
    "    if v in e[1]:\n",
    "      n += 1\n",
    "  return n\n",
    "\n",
    "def get_times():\n",
    "  dtimes = {}\n",
    "  for e in refs:\n",
    "    n = get_n(e[0])\n",
    "    dtimes[e[0]] = n\n",
    "  return dtimes\n",
    "\n",
    "def get_parents(v):\n",
    "  parents = []\n",
    "  for e in refs:\n",
    "    if v in e[1]:\n",
    "      parents += [e[0]]\n",
    "  return [v, parents]\n",
    "\n",
    "def get_all_parents():\n",
    "  parents = []\n",
    "  for e in refs:\n",
    "    parents += [get_parents(e[0])]\n",
    "  return parents\n",
    "\n",
    "dtimes = get_times()\n",
    "print(dtimes)\n",
    "\n",
    "parents = get_all_parents()\n",
    "print('parents =', parents)\n",
    "\n",
    "def get_path(v1, v2):\n",
    "  parents = get_parents(v2)\n",
    "  p = parents\n",
    "  k = 0\n",
    "  n = 0\n",
    "  line = [v2]\n",
    "  while k<30:\n",
    "\n",
    "    print(k, p)\n",
    "    if v1 in p[1]:\n",
    "      line += [v1]\n",
    "      print(111, p, p[0])\n",
    "      break\n",
    "    if n < len(p):\n",
    "      p = get_parents(p[1][n])\n",
    "      line += [p[0]]\n",
    "      n += 1\n",
    "    else:\n",
    "      n = 0\n",
    "      # break\n",
    "    k += 1\n",
    "\n",
    "  print(line, v1, v2, parents)\n",
    "\n",
    "res = get_path(50, 55)  "
   ]
  }
 ],
 "metadata": {
  "kernelspec": {
   "display_name": "Python 3",
   "language": "python",
   "name": "python3"
  },
  "language_info": {
   "codemirror_mode": {
    "name": "ipython",
    "version": 3
   },
   "file_extension": ".py",
   "mimetype": "text/x-python",
   "name": "python",
   "nbconvert_exporter": "python",
   "pygments_lexer": "ipython3",
   "version": "3.7.9"
  }
 },
 "nbformat": 4,
 "nbformat_minor": 4
}
