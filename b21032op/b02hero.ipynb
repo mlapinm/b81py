{
 "cells": [
  {
   "cell_type": "markdown",
   "metadata": {},
   "source": [
    "### Hero"
   ]
  },
  {
   "cell_type": "code",
   "execution_count": null,
   "metadata": {},
   "outputs": [],
   "source": []
  },
  {
   "cell_type": "code",
   "execution_count": 2,
   "metadata": {},
   "outputs": [],
   "source": [
    "class Hero:\n",
    "    def __init__(self):\n",
    "        self.positive_effects = []\n",
    "        self.negative_effects = []\n",
    "        self.stats = {\n",
    "            \"HP\": 128,  # health points\n",
    "            \"MP\": 42,  # magic points, \n",
    "            \"SP\": 100,  # skill points\n",
    "            \"Strength\": 15,  # сила\n",
    "            \"Perception\": 4,  # восприятие\n",
    "            \"Endurance\": 8,  # выносливость\n",
    "            \"Charisma\": 2,  # харизма\n",
    "            \"Intelligence\": 3,  # интеллект\n",
    "            \"Agility\": 8,  # ловкость \n",
    "            \"Luck\": 1  # удача\n",
    "        }\n",
    "\n",
    "    def get_positive_effects(self):\n",
    "        return self.positive_effects.copy()\n",
    "\n",
    "    def get_negative_effects(self):\n",
    "        return self.negative_effects.copy()\n",
    "\n",
    "    def get_stats(self):\n",
    "        return self.stats.copy()"
   ]
  },
  {
   "cell_type": "code",
   "execution_count": 11,
   "metadata": {},
   "outputs": [],
   "source": [
    "class Berserk(Hero):\n",
    "    def __init__(self, base):\n",
    "        pass"
   ]
  },
  {
   "cell_type": "code",
   "execution_count": 10,
   "metadata": {},
   "outputs": [
    {
     "data": {
      "text/plain": [
       "[]"
      ]
     },
     "execution_count": 10,
     "metadata": {},
     "output_type": "execute_result"
    }
   ],
   "source": [
    "hero = Hero()\n",
    "hero.get_stats()\n",
    "hero.get_positive_effects()\n",
    "hero.get_negative_effects()\n",
    "# positive_effects"
   ]
  },
  {
   "cell_type": "code",
   "execution_count": null,
   "metadata": {},
   "outputs": [],
   "source": []
  }
 ],
 "metadata": {
  "kernelspec": {
   "display_name": "Python 3",
   "language": "python",
   "name": "python3"
  },
  "language_info": {
   "codemirror_mode": {
    "name": "ipython",
    "version": 3
   },
   "file_extension": ".py",
   "mimetype": "text/x-python",
   "name": "python",
   "nbconvert_exporter": "python",
   "pygments_lexer": "ipython3",
   "version": "3.7.8"
  }
 },
 "nbformat": 4,
 "nbformat_minor": 4
}
