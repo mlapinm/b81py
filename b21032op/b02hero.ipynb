{
 "cells": [
  {
   "cell_type": "markdown",
   "metadata": {},
   "source": [
    "### Hero"
   ]
  },
  {
   "cell_type": "code",
   "execution_count": null,
   "metadata": {},
   "outputs": [],
   "source": []
  },
  {
   "cell_type": "code",
   "execution_count": 2,
   "metadata": {},
   "outputs": [],
   "source": [
    "class Hero:\n",
    "    def __init__(self):\n",
    "        self.positive_effects = []\n",
    "        self.negative_effects = []\n",
    "        self.stats = {\n",
    "            \"HP\": 128,  # health points\n",
    "            \"MP\": 42,  # magic points, \n",
    "            \"SP\": 100,  # skill points\n",
    "            \"Strength\": 15,  # сила\n",
    "            \"Perception\": 4,  # восприятие\n",
    "            \"Endurance\": 8,  # выносливость\n",
    "            \"Charisma\": 2,  # харизма\n",
    "            \"Intelligence\": 3,  # интеллект\n",
    "            \"Agility\": 8,  # ловкость \n",
    "            \"Luck\": 1  # удача\n",
    "        }\n",
    "\n",
    "    def get_positive_effects(self):\n",
    "        return self.positive_effects.copy()\n",
    "\n",
    "    def get_negative_effects(self):\n",
    "        return self.negative_effects.copy()\n",
    "\n",
    "    def get_stats(self):\n",
    "        return self.stats.copy()"
   ]
  },
  {
   "cell_type": "code",
   "execution_count": 11,
   "metadata": {},
   "outputs": [],
   "source": [
    "class Berserk(Hero):\n",
    "    def __init__(self, base):\n",
    "        pass"
   ]
  },
  {
   "cell_type": "code",
   "execution_count": 10,
   "metadata": {},
   "outputs": [
    {
     "data": {
      "text/plain": [
       "[]"
      ]
     },
     "execution_count": 10,
     "metadata": {},
     "output_type": "execute_result"
    }
   ],
   "source": [
    "hero = Hero()\n",
    "hero.get_stats()\n",
    "hero.get_positive_effects()\n",
    "hero.get_negative_effects()\n",
    "# positive_effects"
   ]
  },
  {
   "cell_type": "markdown",
   "metadata": {},
   "source": [
    "### Problem stat and base - 1"
   ]
  },
  {
   "cell_type": "code",
   "execution_count": 23,
   "metadata": {},
   "outputs": [],
   "source": [
    "class Hero():\n",
    "    def __init__(self):\n",
    "        self.stat = {'health': 50}\n",
    "    def get_stat(self):\n",
    "        return self.stat.copy()"
   ]
  },
  {
   "cell_type": "code",
   "execution_count": 37,
   "metadata": {},
   "outputs": [],
   "source": [
    "from abc import ABC, abstractmethod\n",
    "class AbsDecorator(ABC):\n",
    "    def __init__(self, base):\n",
    "        self.base = base\n",
    "    @abstractmethod\n",
    "    def get_stat(self):\n",
    "        pass\n",
    "    \n",
    "class HealthHero(AbsDecorator):\n",
    "    def get_stat(self):\n",
    "        stat = self.base.get_stat()\n",
    "        stat['health'] += 10\n",
    "        return stat\n",
    "        "
   ]
  },
  {
   "cell_type": "code",
   "execution_count": null,
   "metadata": {},
   "outputs": [],
   "source": []
  },
  {
   "cell_type": "code",
   "execution_count": null,
   "metadata": {},
   "outputs": [],
   "source": []
  },
  {
   "cell_type": "code",
   "execution_count": 66,
   "metadata": {},
   "outputs": [
    {
     "name": "stdout",
     "output_type": "stream",
     "text": [
      "{'health': 80}\n"
     ]
    }
   ],
   "source": [
    "hero = Hero()\n",
    "hero2 = HealthHero(hero)\n",
    "hero3 = HealthHero(hero2)\n",
    "hero4 = HealthHero(hero3)\n",
    "print(hero4.get_stat())"
   ]
  },
  {
   "cell_type": "code",
   "execution_count": 70,
   "metadata": {},
   "outputs": [
    {
     "name": "stdout",
     "output_type": "stream",
     "text": [
      "{'health': 70}\n"
     ]
    }
   ],
   "source": [
    "hero = Hero()\n",
    "hero2 = HealthHero(hero)\n",
    "hero3 = HealthHero(hero2)\n",
    "hero4 = HealthHero(hero3)\n",
    "hero3.base = hero\n",
    "print(hero4.get_stat())"
   ]
  },
  {
   "cell_type": "markdown",
   "metadata": {},
   "source": [
    "### Problem pos and neg - 2"
   ]
  },
  {
   "cell_type": "code",
   "execution_count": 71,
   "metadata": {},
   "outputs": [],
   "source": [
    "class Hero():\n",
    "    def __init__(self):\n",
    "        self.stat = {'health': 50}\n",
    "        self.pos = []\n",
    "        self.neg = []\n",
    "    def get_stat(self):\n",
    "        return self.stat.copy()\n",
    "    def get_pos(self):\n",
    "        return self.pos.copy()\n",
    "    def get_neg(self):\n",
    "        return self.neg.copy()\n",
    "    \n",
    "    "
   ]
  },
  {
   "cell_type": "code",
   "execution_count": 85,
   "metadata": {},
   "outputs": [
    {
     "name": "stdout",
     "output_type": "stream",
     "text": [
      "['pos', 'pos']\n"
     ]
    }
   ],
   "source": [
    "from abc import ABC, abstractmethod\n",
    "class AbsDecorator(ABC):\n",
    "    def __init__(self, base):\n",
    "        self.base = base\n",
    "    \n",
    "class PosDecorator(AbsDecorator):\n",
    "    \n",
    "    def get_pos(self):\n",
    "        return self.base.get_pos() + ['pos']\n",
    "    \n",
    "class PosHero(PosDecorator):\n",
    "    def get_stat(self):\n",
    "        stat = self.base.get_stat()\n",
    "        stat['health'] += 10\n",
    "        return stat\n",
    "\n",
    "hero = Hero()\n",
    "hero2 = PosHero(hero)\n",
    "hero3 = PosHero(hero2)\n",
    "hero4 = PosHero(hero3)\n",
    "hero3.base = hero\n",
    "print(hero4.get_pos())"
   ]
  },
  {
   "cell_type": "markdown",
   "metadata": {},
   "source": [
    "### Problem pos and neg - 3"
   ]
  },
  {
   "cell_type": "code",
   "execution_count": 111,
   "metadata": {},
   "outputs": [
    {
     "name": "stdout",
     "output_type": "stream",
     "text": [
      "['NegHero']\n",
      "['PosHero', 'PosHero']\n"
     ]
    }
   ],
   "source": [
    "from abc import ABC, abstractmethod\n",
    "class AbsDecorator(ABC):\n",
    "    def __init__(self, base):\n",
    "        self.base = base\n",
    "\n",
    "    def get_pos(self):\n",
    "        return self.base.get_pos()\n",
    "\n",
    "    def get_neg(self):\n",
    "        return self.base.get_neg()\n",
    "        \n",
    "    \n",
    "    \n",
    "class PosDecorator(AbsDecorator):\n",
    "    \n",
    "    @abstractmethod\n",
    "    def get_pos(self):\n",
    "        pass\n",
    "\n",
    "class NegDecorator(AbsDecorator):\n",
    "    \n",
    "    @abstractmethod\n",
    "    def get_neg(self):\n",
    "        pass\n",
    "    \n",
    "class PosHero(PosDecorator):\n",
    "    def get_stat(self):\n",
    "        stat = self.base.get_stat()\n",
    "        stat['health'] += 10\n",
    "        return stat\n",
    "    \n",
    "    def get_pos(self):\n",
    "        return self.base.get_pos() + [self.__class__.__name__]\n",
    "\n",
    "class NegHero(NegDecorator):\n",
    "    def get_stat(self):\n",
    "        stat = self.base.get_stat()\n",
    "        stat['health'] += 10\n",
    "        return stat\n",
    "    \n",
    "    def get_neg(self):\n",
    "        return self.base.get_neg() + [self.__class__.__name__]\n",
    "    \n",
    "hero = Hero()\n",
    "hero2 = PosHero(hero)\n",
    "hero3 = NegHero(hero2)\n",
    "hero4 = PosHero(hero3)\n",
    "# hero3.base = hero\n",
    "print(hero4.get_neg())\n",
    "print(hero4.get_pos())\n"
   ]
  }
 ],
 "metadata": {
  "kernelspec": {
   "display_name": "Python 3",
   "language": "python",
   "name": "python3"
  },
  "language_info": {
   "codemirror_mode": {
    "name": "ipython",
    "version": 3
   },
   "file_extension": ".py",
   "mimetype": "text/x-python",
   "name": "python",
   "nbconvert_exporter": "python",
   "pygments_lexer": "ipython3",
   "version": "3.7.8"
  }
 },
 "nbformat": 4,
 "nbformat_minor": 4
}
