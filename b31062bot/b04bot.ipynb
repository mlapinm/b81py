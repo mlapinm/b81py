{
 "cells": [
  {
   "cell_type": "markdown",
   "metadata": {},
   "source": [
    "### part 1"
   ]
  },
  {
   "cell_type": "markdown",
   "metadata": {},
   "source": [
    "install - 1"
   ]
  },
  {
   "cell_type": "markdown",
   "metadata": {},
   "source": [
    "https://replit.com/@MikhailLapin/b02telegram#main.py\n",
    "    \n",
    "https://t.me/mlapinbot\n",
    "\n",
    "https://colab.research.google.com/drive/1DPh2ljSqVcai6w83uVgVJsSOY4HNciFf#scrollTo=abgwBuRZJ_Sl\n",
    "\n"
   ]
  },
  {
   "cell_type": "code",
   "execution_count": 3,
   "metadata": {},
   "outputs": [
    {
     "name": "stdout",
     "output_type": "stream",
     "text": [
      "Requirement already satisfied: pyTelegramBotAPI==3.6.6 in c:\\python36\\lib\\site-packages (3.6.6)\n",
      "Requirement already satisfied: six in c:\\python36\\lib\\site-packages (from pyTelegramBotAPI==3.6.6) (1.15.0)\n",
      "Requirement already satisfied: requests in c:\\python36\\lib\\site-packages (from pyTelegramBotAPI==3.6.6) (2.7.0)\n"
     ]
    },
    {
     "name": "stderr",
     "output_type": "stream",
     "text": [
      "WARNING: You are using pip version 20.1.1; however, version 22.0.4 is available.\n",
      "You should consider upgrading via the 'c:\\python36\\python.exe -m pip install --upgrade pip' command.\n"
     ]
    }
   ],
   "source": [
    "# !pip install telebot\n",
    "!pip install pyTelegramBotAPI==3.6.6"
   ]
  },
  {
   "cell_type": "code",
   "execution_count": 1,
   "metadata": {},
   "outputs": [],
   "source": [
    "import telebot\n",
    "token = '5162619904:AAFH6YahnWvGSzxzteRT0Tz9VJJaF8vEdMk'"
   ]
  },
  {
   "cell_type": "markdown",
   "metadata": {},
   "source": [
    "print message - 2"
   ]
  },
  {
   "cell_type": "code",
   "execution_count": 2,
   "metadata": {},
   "outputs": [
    {
     "ename": "AttributeError",
     "evalue": "'TeleBot' object has no attribute 'message_handler'",
     "output_type": "error",
     "traceback": [
      "\u001b[1;31m---------------------------------------------------------------------------\u001b[0m",
      "\u001b[1;31mAttributeError\u001b[0m                            Traceback (most recent call last)",
      "\u001b[1;32m<ipython-input-2-3364d2618e3c>\u001b[0m in \u001b[0;36m<module>\u001b[1;34m\u001b[0m\n\u001b[0;32m      1\u001b[0m \u001b[0mbot\u001b[0m \u001b[1;33m=\u001b[0m \u001b[0mtelebot\u001b[0m\u001b[1;33m.\u001b[0m\u001b[0mTeleBot\u001b[0m\u001b[1;33m(\u001b[0m\u001b[0mtoken\u001b[0m\u001b[1;33m)\u001b[0m\u001b[1;33m\u001b[0m\u001b[1;33m\u001b[0m\u001b[0m\n\u001b[0;32m      2\u001b[0m \u001b[1;33m\u001b[0m\u001b[0m\n\u001b[1;32m----> 3\u001b[1;33m \u001b[1;33m@\u001b[0m\u001b[0mbot\u001b[0m\u001b[1;33m.\u001b[0m\u001b[0mmessage_handler\u001b[0m\u001b[1;33m(\u001b[0m\u001b[1;33m)\u001b[0m\u001b[1;33m\u001b[0m\u001b[1;33m\u001b[0m\u001b[0m\n\u001b[0m\u001b[0;32m      4\u001b[0m \u001b[1;32mdef\u001b[0m \u001b[0mhandle_message\u001b[0m\u001b[1;33m(\u001b[0m\u001b[0mmessage\u001b[0m\u001b[1;33m)\u001b[0m\u001b[1;33m:\u001b[0m\u001b[1;33m\u001b[0m\u001b[1;33m\u001b[0m\u001b[0m\n\u001b[0;32m      5\u001b[0m     \u001b[0mprint\u001b[0m\u001b[1;33m(\u001b[0m\u001b[0mmessage\u001b[0m\u001b[1;33m.\u001b[0m\u001b[0mtext\u001b[0m\u001b[1;33m)\u001b[0m\u001b[1;33m\u001b[0m\u001b[1;33m\u001b[0m\u001b[0m\n",
      "\u001b[1;31mAttributeError\u001b[0m: 'TeleBot' object has no attribute 'message_handler'"
     ]
    }
   ],
   "source": [
    "bot = telebot.TeleBot(token)\n",
    "\n",
    "@bot.message_handler()\n",
    "def handle_message(message):\n",
    "    print(message.text)\n",
    "\n",
    "bot.polling()"
   ]
  },
  {
   "cell_type": "markdown",
   "metadata": {},
   "source": [
    "send back - 3"
   ]
  },
  {
   "cell_type": "code",
   "execution_count": null,
   "metadata": {},
   "outputs": [],
   "source": [
    "bot = telebot.TeleBot(token)\n",
    "\n",
    "@bot.message_handler()\n",
    "def handle_message(message):\n",
    "    print(message.text)\n",
    "    bot.send_message(chat_id=message.chat.id, text='Узнай курс валют.')\n",
    "\n",
    "bot.polling()"
   ]
  },
  {
   "cell_type": "markdown",
   "metadata": {},
   "source": [
    "### part 2"
   ]
  },
  {
   "cell_type": "markdown",
   "metadata": {},
   "source": [
    "extend handle message\n",
    "\n",
    "currency exchange\n",
    "\n"
   ]
  },
  {
   "cell_type": "code",
   "execution_count": 3,
   "metadata": {},
   "outputs": [],
   "source": [
    "import telebot\n",
    "token = '5162619904:AAFH6YahnWvGSzxzteRT0Tz9VJJaF8vEdMk'"
   ]
  },
  {
   "cell_type": "code",
   "execution_count": null,
   "metadata": {},
   "outputs": [
    {
     "name": "stdout",
     "output_type": "stream",
     "text": [
      "/rate\n",
      "/rate\n"
     ]
    }
   ],
   "source": [
    "bot = telebot.TeleBot(token)\n",
    "\n",
    "currencies = ['евро', 'доллар']\n",
    "\n",
    "def check_currency(message):\n",
    "    for c in currencies:\n",
    "        if c in message.text.lower():\n",
    "            return True\n",
    "    return False\n",
    "\n",
    "def check_currency_value(text):\n",
    "    currency_values = {'евро': 70, 'доллар': 60}\n",
    "    for currency, value in currency_values.items():\n",
    "        if currency in text.lower():\n",
    "            return currency, value\n",
    "    return None, None\n",
    "\n",
    "@bot.message_handler(commands=['rate'])\n",
    "@bot.message_handler(func=check_currency)\n",
    "def handle_currency(message):\n",
    "    print(message.text)\n",
    "    currency, value = check_currency_value(message.text)\n",
    "    if currency:\n",
    "        bot.send_message(message.chat.id, text='Курс {} равен {}.'.format(currency, value))\n",
    "    else:\n",
    "        bot.send_message(message.chat.id, text='Узнай курс валют.')\n",
    "\n",
    "@bot.message_handler(commands=[''])\n",
    "def handle_message(message):\n",
    "    print(message.text)\n",
    "    bot.send_message(chat_id=message.chat.id, text='/')\n",
    "    bot.send_message(chat_id=message.chat.id, text='/rate')\n",
    "    bot.send_message(chat_id=message.chat.id, text='/доллар')\n",
    "    bot.send_message(chat_id=message.chat.id, text='/евро')\n",
    "\n",
    "bot.polling()"
   ]
  },
  {
   "cell_type": "code",
   "execution_count": null,
   "metadata": {},
   "outputs": [],
   "source": []
  },
  {
   "cell_type": "code",
   "execution_count": null,
   "metadata": {},
   "outputs": [],
   "source": []
  },
  {
   "cell_type": "code",
   "execution_count": null,
   "metadata": {},
   "outputs": [],
   "source": []
  },
  {
   "cell_type": "code",
   "execution_count": null,
   "metadata": {},
   "outputs": [],
   "source": []
  },
  {
   "cell_type": "code",
   "execution_count": null,
   "metadata": {},
   "outputs": [],
   "source": [
    "print(333)"
   ]
  }
 ],
 "metadata": {
  "kernelspec": {
   "display_name": "Python 3",
   "language": "python",
   "name": "python3"
  },
  "language_info": {
   "codemirror_mode": {
    "name": "ipython",
    "version": 3
   },
   "file_extension": ".py",
   "mimetype": "text/x-python",
   "name": "python",
   "nbconvert_exporter": "python",
   "pygments_lexer": "ipython3",
   "version": "3.7.8"
  }
 },
 "nbformat": 4,
 "nbformat_minor": 4
}
