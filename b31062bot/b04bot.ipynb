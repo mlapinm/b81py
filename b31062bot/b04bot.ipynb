{
 "cells": [
  {
   "cell_type": "markdown",
   "metadata": {},
   "source": [
    "### part 1"
   ]
  },
  {
   "cell_type": "markdown",
   "metadata": {},
   "source": [
    "install - 1"
   ]
  },
  {
   "cell_type": "code",
   "execution_count": null,
   "metadata": {},
   "outputs": [],
   "source": [
    "print(33)"
   ]
  },
  {
   "cell_type": "code",
   "execution_count": 5,
   "metadata": {},
   "outputs": [
    {
     "name": "stdout",
     "output_type": "stream",
     "text": [
      "Collecting pyTelegramBotAPI\n",
      "  Downloading pyTelegramBotAPI-4.4.0.tar.gz (147 kB)\n",
      "Requirement already satisfied: requests in c:\\programdata\\anaconda3\\lib\\site-packages (from pyTelegramBotAPI) (2.24.0)\n",
      "Requirement already satisfied: urllib3!=1.25.0,!=1.25.1,<1.26,>=1.21.1 in c:\\programdata\\anaconda3\\lib\\site-packages (from requests->pyTelegramBotAPI) (1.25.11)\n",
      "Requirement already satisfied: certifi>=2017.4.17 in c:\\programdata\\anaconda3\\lib\\site-packages (from requests->pyTelegramBotAPI) (2020.6.20)\n",
      "Requirement already satisfied: chardet<4,>=3.0.2 in c:\\programdata\\anaconda3\\lib\\site-packages (from requests->pyTelegramBotAPI) (3.0.4)\n",
      "Requirement already satisfied: idna<3,>=2.5 in c:\\programdata\\anaconda3\\lib\\site-packages (from requests->pyTelegramBotAPI) (2.10)\n",
      "Building wheels for collected packages: pyTelegramBotAPI\n",
      "  Building wheel for pyTelegramBotAPI (setup.py): started\n",
      "  Building wheel for pyTelegramBotAPI (setup.py): finished with status 'done'\n",
      "  Created wheel for pyTelegramBotAPI: filename=pyTelegramBotAPI-4.4.0-py3-none-any.whl size=128119 sha256=fc4a4dd245af584267adbc943f007288105cfb639845c1404e7a8941be1a520e\n",
      "  Stored in directory: c:\\users\\freon\\appdata\\local\\pip\\cache\\wheels\\63\\5f\\43\\ff886f35b990053bd5084d963ee666117f109d308451a0713f\n",
      "Successfully built pyTelegramBotAPI\n",
      "Installing collected packages: pyTelegramBotAPI\n",
      "Successfully installed pyTelegramBotAPI-4.4.0\n"
     ]
    }
   ],
   "source": [
    "# !pip install telebot\n",
    "!pip install pyTelegramBotAPI"
   ]
  },
  {
   "cell_type": "code",
   "execution_count": 1,
   "metadata": {},
   "outputs": [],
   "source": [
    "import telebot\n",
    "token = '5162619904:AAFH6YahnWvGSzxzteRT0Tz9VJJaF8vEdMk'"
   ]
  },
  {
   "cell_type": "markdown",
   "metadata": {},
   "source": [
    "print message - 2"
   ]
  },
  {
   "cell_type": "code",
   "execution_count": 2,
   "metadata": {},
   "outputs": [
    {
     "name": "stdout",
     "output_type": "stream",
     "text": [
      "ДолларЕвро\n",
      "\n"
     ]
    }
   ],
   "source": [
    "bot = telebot.TeleBot(token)\n",
    "\n",
    "@bot.message_handler()\n",
    "def handle_message(message):\n",
    "    print(message.text)\n",
    "\n",
    "bot.polling()"
   ]
  },
  {
   "cell_type": "markdown",
   "metadata": {},
   "source": [
    "send back - 3"
   ]
  },
  {
   "cell_type": "code",
   "execution_count": null,
   "metadata": {},
   "outputs": [],
   "source": [
    "bot = telebot.TeleBot(token)\n",
    "\n",
    "@bot.message_handler()\n",
    "def handle_message(message):\n",
    "    print(message.text)\n",
    "    bot.send_message(chat_id=message.chat.id, text='Узнай курс валют.')\n",
    "\n",
    "bot.polling()"
   ]
  },
  {
   "cell_type": "markdown",
   "metadata": {},
   "source": [
    "### part 2"
   ]
  },
  {
   "cell_type": "markdown",
   "metadata": {},
   "source": [
    "extend handle message\n",
    "\n",
    "currency exchange\n",
    "\n"
   ]
  },
  {
   "cell_type": "code",
   "execution_count": 1,
   "metadata": {},
   "outputs": [],
   "source": [
    "import telebot\n",
    "token = '5162619904:AAFH6YahnWvGSzxzteRT0Tz9VJJaF8vEdMk'"
   ]
  },
  {
   "cell_type": "code",
   "execution_count": null,
   "metadata": {},
   "outputs": [
    {
     "name": "stdout",
     "output_type": "stream",
     "text": [
      "/\n",
      "/rate\n",
      "/rate\n",
      "/rate\n",
      "/rate\n",
      "BotLapin:\n",
      "/доллар\n",
      "\n",
      "/евро\n"
     ]
    }
   ],
   "source": [
    "bot = telebot.TeleBot(token)\n",
    "\n",
    "currencies = ['евро', 'доллар']\n",
    "\n",
    "def check_currency(message):\n",
    "    for c in currencies:\n",
    "        if c in message.text.lower():\n",
    "            return True\n",
    "    return False\n",
    "\n",
    "def check_currency_value(text):\n",
    "    currency_values = {'евро': 70, 'доллар': 60}\n",
    "    for currency, value in currency_values.items():\n",
    "        if currency in text.lower():\n",
    "            return currency, value\n",
    "    return None, None\n",
    "\n",
    "@bot.message_handler(commands=['rate'])\n",
    "@bot.message_handler(func=check_currency)\n",
    "def handle_currency(message):\n",
    "    print(message.text)\n",
    "    currency, value = check_currency_value(message.text)\n",
    "    if currency:\n",
    "        bot.send_message(message.chat.id, text='Курс {} равен {}.'.format(currency, value))\n",
    "    else:\n",
    "        bot.send_message(message.chat.id, text='Узнай курс валют.')\n",
    "\n",
    "@bot.message_handler(commands=[''])\n",
    "def handle_message(message):\n",
    "    print(message.text)\n",
    "    bot.send_message(chat_id=message.chat.id, text='/')\n",
    "    bot.send_message(chat_id=message.chat.id, text='/rate')\n",
    "    bot.send_message(chat_id=message.chat.id, text='/доллар')\n",
    "    bot.send_message(chat_id=message.chat.id, text='/евро')\n",
    "\n",
    "bot.polling()"
   ]
  },
  {
   "cell_type": "code",
   "execution_count": null,
   "metadata": {},
   "outputs": [],
   "source": []
  },
  {
   "cell_type": "code",
   "execution_count": null,
   "metadata": {},
   "outputs": [],
   "source": []
  },
  {
   "cell_type": "code",
   "execution_count": null,
   "metadata": {},
   "outputs": [],
   "source": []
  },
  {
   "cell_type": "code",
   "execution_count": null,
   "metadata": {},
   "outputs": [],
   "source": []
  },
  {
   "cell_type": "code",
   "execution_count": null,
   "metadata": {},
   "outputs": [],
   "source": [
    "print(333)"
   ]
  }
 ],
 "metadata": {
  "kernelspec": {
   "display_name": "Python 3",
   "language": "python",
   "name": "python3"
  },
  "language_info": {
   "codemirror_mode": {
    "name": "ipython",
    "version": 3
   },
   "file_extension": ".py",
   "mimetype": "text/x-python",
   "name": "python",
   "nbconvert_exporter": "python",
   "pygments_lexer": "ipython3",
   "version": "3.7.9"
  }
 },
 "nbformat": 4,
 "nbformat_minor": 4
}
