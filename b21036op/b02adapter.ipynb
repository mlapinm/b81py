{
 "cells": [
  {
   "cell_type": "markdown",
   "metadata": {},
   "source": [
    "### Adapter"
   ]
  },
  {
   "cell_type": "markdown",
   "metadata": {},
   "source": [
    "#### Source code - 1"
   ]
  },
  {
   "cell_type": "code",
   "execution_count": 2,
   "metadata": {},
   "outputs": [],
   "source": [
    "# from System import *\n",
    "import re\n",
    "from abc import ABC, abstractmethod"
   ]
  },
  {
   "cell_type": "code",
   "execution_count": 88,
   "metadata": {},
   "outputs": [],
   "source": [
    "class System:\n",
    "    def __init__(self, text):\n",
    "        tmp = re.sub(r'\\W', ' ', text.lower())\n",
    "        tmp = re.sub(r' +', ' ', tmp).strip()\n",
    "        self.text = tmp\n",
    "        \n",
    "    def get_processed_text(self, processor):\n",
    "        result = processor.process_text(self.text)\n",
    "#         print(*result, sep = '\\n')\n",
    "        print(*result)\n",
    "        \n",
    "class TextProcessor(ABC):\n",
    "    @abstractmethod\n",
    "    def process_text(self, text):\n",
    "        pass"
   ]
  },
  {
   "cell_type": "code",
   "execution_count": 78,
   "metadata": {},
   "outputs": [],
   "source": [
    "class WordCounter:\n",
    "    def count_words(self, text):\n",
    "        self.__words = dict()\n",
    "        for word in text.split():\n",
    "            self.__words[word] = self.__words.get(word, 0) + 1\n",
    "            \n",
    "    def get_count(self, word):\n",
    "        return self.__words.get(word, 0)\n",
    "    \n",
    "    def get_all_words(self):\n",
    "        return self.__words.copy()"
   ]
  },
  {
   "cell_type": "code",
   "execution_count": 89,
   "metadata": {},
   "outputs": [],
   "source": [
    "text = 'the authors refer to inheritance as white-box reuse with white-box referring to visibility because the internals of parent classes are often visible to subclasses in contrast the authors refer to object composition in which objects with well-defined interfaces are used dynamically at runtime by objects obtaining references to other objects as black-box reuse because no internal details of composed objects need be visible in the code using them'\n",
    "system = System(text)"
   ]
  },
  {
   "cell_type": "code",
   "execution_count": 8,
   "metadata": {},
   "outputs": [
    {
     "data": {
      "text/plain": [
       "'the authors refer to inheritance as white box reuse with white box referring to visibility because the internals of parent classes are often visible to subclasses in contrast the authors refer to object composition in which objects with well defined interfaces are used dynamically at runtime by objects obtaining references to other objects as black box reuse because no internal details of composed objects need be visible in the code using them'"
      ]
     },
     "execution_count": 8,
     "metadata": {},
     "output_type": "execute_result"
    }
   ],
   "source": [
    "system.text"
   ]
  },
  {
   "cell_type": "markdown",
   "metadata": {},
   "source": [
    "#### and now - 2"
   ]
  },
  {
   "cell_type": "markdown",
   "metadata": {},
   "source": [
    "##### a"
   ]
  },
  {
   "cell_type": "code",
   "execution_count": 43,
   "metadata": {},
   "outputs": [],
   "source": [
    "counter = WordCounter()"
   ]
  },
  {
   "cell_type": "code",
   "execution_count": 11,
   "metadata": {},
   "outputs": [
    {
     "ename": "AttributeError",
     "evalue": "'WordCounter' object has no attribute 'process_text'",
     "output_type": "error",
     "traceback": [
      "\u001b[1;31m---------------------------------------------------------------------------\u001b[0m",
      "\u001b[1;31mAttributeError\u001b[0m                            Traceback (most recent call last)",
      "\u001b[1;32m<ipython-input-11-1ee075554025>\u001b[0m in \u001b[0;36m<module>\u001b[1;34m\u001b[0m\n\u001b[1;32m----> 1\u001b[1;33m \u001b[0msystem\u001b[0m\u001b[1;33m.\u001b[0m\u001b[0mget_processed_text\u001b[0m\u001b[1;33m(\u001b[0m\u001b[0mcounter\u001b[0m\u001b[1;33m)\u001b[0m\u001b[1;33m\u001b[0m\u001b[1;33m\u001b[0m\u001b[0m\n\u001b[0m",
      "\u001b[1;32m<ipython-input-4-4c4b382dfd64>\u001b[0m in \u001b[0;36mget_processed_text\u001b[1;34m(self, processor)\u001b[0m\n\u001b[0;32m      6\u001b[0m \u001b[1;33m\u001b[0m\u001b[0m\n\u001b[0;32m      7\u001b[0m     \u001b[1;32mdef\u001b[0m \u001b[0mget_processed_text\u001b[0m\u001b[1;33m(\u001b[0m\u001b[0mself\u001b[0m\u001b[1;33m,\u001b[0m \u001b[0mprocessor\u001b[0m\u001b[1;33m)\u001b[0m\u001b[1;33m:\u001b[0m\u001b[1;33m\u001b[0m\u001b[1;33m\u001b[0m\u001b[0m\n\u001b[1;32m----> 8\u001b[1;33m         \u001b[0mresult\u001b[0m \u001b[1;33m=\u001b[0m \u001b[0mprocessor\u001b[0m\u001b[1;33m.\u001b[0m\u001b[0mprocess_text\u001b[0m\u001b[1;33m(\u001b[0m\u001b[0mself\u001b[0m\u001b[1;33m.\u001b[0m\u001b[0mtext\u001b[0m\u001b[1;33m)\u001b[0m\u001b[1;33m\u001b[0m\u001b[1;33m\u001b[0m\u001b[0m\n\u001b[0m\u001b[0;32m      9\u001b[0m         \u001b[0mprint\u001b[0m\u001b[1;33m(\u001b[0m\u001b[1;33m*\u001b[0m\u001b[0mresult\u001b[0m\u001b[1;33m,\u001b[0m \u001b[0msep\u001b[0m \u001b[1;33m=\u001b[0m \u001b[1;34m'\\n'\u001b[0m\u001b[1;33m)\u001b[0m\u001b[1;33m\u001b[0m\u001b[1;33m\u001b[0m\u001b[0m\n\u001b[0;32m     10\u001b[0m \u001b[1;33m\u001b[0m\u001b[0m\n",
      "\u001b[1;31mAttributeError\u001b[0m: 'WordCounter' object has no attribute 'process_text'"
     ]
    }
   ],
   "source": [
    "system.get_processed_text(counter)"
   ]
  },
  {
   "cell_type": "code",
   "execution_count": 28,
   "metadata": {},
   "outputs": [],
   "source": [
    "class WordCounterAdapter(TextProcessor):\n",
    "    def __init__(self, adaptee):\n",
    "        self.adaptee = adaptee\n",
    "        \n",
    "    def process_text(self, text):\n",
    "        return ['text']"
   ]
  },
  {
   "cell_type": "code",
   "execution_count": 29,
   "metadata": {},
   "outputs": [
    {
     "name": "stdout",
     "output_type": "stream",
     "text": [
      "text\n"
     ]
    }
   ],
   "source": [
    "word_counter_adapter = WordCounterAdapter(counter)\n",
    "system.get_processed_text(word_counter_adapter)"
   ]
  },
  {
   "cell_type": "markdown",
   "metadata": {},
   "source": [
    "##### b"
   ]
  },
  {
   "cell_type": "code",
   "execution_count": 93,
   "metadata": {},
   "outputs": [
    {
     "name": "stdout",
     "output_type": "stream",
     "text": [
      "to 5 the 4 objects 4 box 3 in 3 authors 2 refer 2 as 2 white 2 reuse 2 with 2 because 2 of 2 are 2 visible 2 inheritance 1 referring 1 visibility 1 internals 1 parent 1 classes 1 often 1 subclasses 1 contrast 1 object 1 composition 1 which 1 well 1 defined 1 interfaces 1 used 1 dynamically 1 at 1 runtime 1 by 1 obtaining 1 references 1 other 1 black 1 no 1 internal 1 details 1 composed 1 need 1 be 1 code 1 using 1 them 1\n"
     ]
    }
   ],
   "source": [
    "counter = WordCounter()\n",
    "\n",
    "class WordCounterAdapter(TextProcessor):\n",
    "    def __init__(self, adaptee):\n",
    "        self.adaptee = adaptee\n",
    "        \n",
    "    def process_text(self, text):\n",
    "        self.adaptee.count_words(text)\n",
    "        dwords = self.adaptee.get_all_words()\n",
    "        twords = [e for e in dwords.items()]\n",
    "        twords.sort(key = lambda e: e[1], reverse=True)\n",
    "        words = ['{} {}'.format(e[0], e[1]) for e in twords]\n",
    "        return words\n",
    "    \n",
    "word_counter_adapter = WordCounterAdapter(counter)\n",
    "system.get_processed_text(word_counter_adapter)"
   ]
  },
  {
   "cell_type": "code",
   "execution_count": 95,
   "metadata": {},
   "outputs": [
    {
     "name": "stdout",
     "output_type": "stream",
     "text": [
      "to 5 the 4 objects 4 box 3 in 3 authors 2 refer 2 as 2 white 2 reuse 2 with 2 because 2 of 2 are 2 visible 2 inheritance 1 referring 1 visibility 1 internals 1 parent 1 classes 1 often 1 subclasses 1 contrast 1 object 1 composition 1 which 1 well 1 defined 1 interfaces 1 used 1 dynamically 1 at 1 runtime 1 by 1 obtaining 1 references 1 other 1 black 1 no 1 internal 1 details 1 composed 1 need 1 be 1 code 1 using 1 them 1\n"
     ]
    }
   ],
   "source": [
    "text = 'the authors refer to inheritance as white-box reuse with white-box referring to visibility because the internals of parent classes are often visible to subclasses in contrast the authors refer to object composition in which objects with well-defined interfaces are used dynamically at runtime by objects obtaining references to other objects as black-box reuse because no internal details of composed objects need be visible in the code using them'\n",
    "system = System(text)\n",
    "counter = WordCounter()\n",
    "word_counter_adapter = WordCounterAdapter(counter)\n",
    "system.get_processed_text(word_counter_adapter)"
   ]
  },
  {
   "cell_type": "code",
   "execution_count": 96,
   "metadata": {},
   "outputs": [],
   "source": [
    "text = 'the authors refer to inheritance as white-box reuse with white-box referring to visibility because the internals of parent classes are often visible to subclasses in contrast the authors refer to object composition in which objects with well-defined interfaces are used dynamically at runtime by objects obtaining references to other objects as black-box reuse because no internal details of composed objects need be visible in the code using them'\n",
    "system = System(text)\n"
   ]
  },
  {
   "cell_type": "code",
   "execution_count": null,
   "metadata": {},
   "outputs": [],
   "source": []
  }
 ],
 "metadata": {
  "kernelspec": {
   "display_name": "Python 3",
   "language": "python",
   "name": "python3"
  },
  "language_info": {
   "codemirror_mode": {
    "name": "ipython",
    "version": 3
   },
   "file_extension": ".py",
   "mimetype": "text/x-python",
   "name": "python",
   "nbconvert_exporter": "python",
   "pygments_lexer": "ipython3",
   "version": "3.7.8"
  }
 },
 "nbformat": 4,
 "nbformat_minor": 4
}
