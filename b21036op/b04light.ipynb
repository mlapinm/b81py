{
 "cells": [
  {
   "cell_type": "markdown",
   "metadata": {},
   "source": [
    "### lab"
   ]
  },
  {
   "cell_type": "code",
   "execution_count": 32,
   "metadata": {},
   "outputs": [
    {
     "name": "stdout",
     "output_type": "stream",
     "text": [
      "[[0, 0, 0, 0], [0, 0, 0, 0], [0, 0, 0, 0], [0, 0, 0, 0], [0, 0, 0, 0], [0, 0, 0, 0]]\n"
     ]
    }
   ],
   "source": [
    "class Light:\n",
    "    def __init__(self, dim):\n",
    "        self.dim = dim\n",
    "        self.grid = [[0 for i in range(dim[0])] for _ in range(dim[1])]\n",
    "        self.lights = []\n",
    "        self.obstacles = []\n",
    "        \n",
    "    def set_dim(self, dim):\n",
    "        self.dim = dim\n",
    "        self.grid = [[0 for i in range(dim[0])] for _ in range(dim[1])]\n",
    "    \n",
    "    def set_lights(self, lights):\n",
    "        self.lights = lights\n",
    "        self.generate_lights()\n",
    "    \n",
    "    def set_obstacles(self, obstacles):\n",
    "        self.obstacles = obstacles\n",
    "        self.generate_lights()\n",
    "        \n",
    "    def generate_lights(self):\n",
    "        return self.grid.copy()\n",
    "\n",
    "light = Light((4, 6))\n",
    "light.set_obstacles((2, 3))\n",
    "light.set_lights((1, 1))\n",
    "box = light.generate_lights()\n",
    "print(box)    "
   ]
  },
  {
   "cell_type": "code",
   "execution_count": 14,
   "metadata": {},
   "outputs": [
    {
     "name": "stdout",
     "output_type": "stream",
     "text": [
      "[[0, 0, 0, 0], [0, 0, 0, 0], [0, 0, 0, 0], [0, 0, 0, 0], [0, 0, 0, 0], [0, 0, 0, 0]]\n"
     ]
    }
   ],
   "source": [
    "light = Light((4, 6))\n",
    "light.set_obstacles((2, 3))\n",
    "light.set_lights((1, 1))\n",
    "box = light.generate_lights()\n",
    "print(box)"
   ]
  },
  {
   "cell_type": "code",
   "execution_count": 133,
   "metadata": {},
   "outputs": [],
   "source": [
    "class System:\n",
    "    def __init__(self):\n",
    "        self.map = self.grid = [[0 for i in range(30)] for _ in range(20)]\n",
    "        self.map[5][7] = 1 # Источники света\n",
    "        self.map[5][2] = -1 # Стены\n",
    "    \n",
    "    def get_lightening(self, light_mapper):\n",
    "        self.lightmap = light_mapper.lighten(self.map)\n",
    "\n"
   ]
  },
  {
   "cell_type": "code",
   "execution_count": 70,
   "metadata": {},
   "outputs": [
    {
     "name": "stdout",
     "output_type": "stream",
     "text": [
      "[[0, 0], [0, 0], [0, 0]]\n"
     ]
    }
   ],
   "source": [
    "light = Light((2, 3))\n",
    "print(light.generate_lights())\n",
    "light.set_lights(0)"
   ]
  },
  {
   "cell_type": "code",
   "execution_count": 134,
   "metadata": {},
   "outputs": [],
   "source": [
    "class MappingAdapter:\n",
    "    def __init__(self, adaptee):\n",
    "        self.adaptee = adaptee\n",
    "\n",
    "    def lighten(self, grid):\n",
    "        wh = (len(grid[0]), len(grid))\n",
    "        self.adaptee.set_dim(wh)\n",
    "        k = -1\n",
    "        s0 = [(e.index(k),i) for i, e in enumerate(grid) if k in e]\n",
    "        i0 = 1\n",
    "        s1 = [(e.index(k),i) for i, e in enumerate(grid) if k in e]\n",
    "        self.adaptee.set_lights(s1)\n",
    "        self.adaptee.set_obstacles(s0)\n",
    "        grid2 = self.adaptee.generate_lights()\n",
    "        return grid2\n",
    "\n",
    "system = System()\n",
    "light = Light((4, 6))\n",
    "mappingAdapter = MappingAdapter(light)\n",
    "\n",
    "system.get_lightening(mappingAdapter)"
   ]
  },
  {
   "cell_type": "code",
   "execution_count": 169,
   "metadata": {},
   "outputs": [],
   "source": [
    "from b04adapter import MappingAdapter\n",
    "\n",
    "system = System()\n",
    "light = Light((4, 6))\n",
    "mappingAdapter = MappingAdapter(light)\n",
    "\n",
    "system.get_lightening(mappingAdapter)"
   ]
  },
  {
   "cell_type": "code",
   "execution_count": 184,
   "metadata": {},
   "outputs": [
    {
     "name": "stdout",
     "output_type": "stream",
     "text": [
      "[(1, 0), (5, 1)]\n"
     ]
    }
   ],
   "source": [
    "grid = [[1, 2, 3], [4, 5, 6]]\n",
    "k = 2\n",
    "s0 = [(e[i], i) for i, e in enumerate(grid)]\n",
    "print(s0)"
   ]
  },
  {
   "cell_type": "code",
   "execution_count": 209,
   "metadata": {},
   "outputs": [
    {
     "name": "stdout",
     "output_type": "stream",
     "text": [
      "[[1, 4], [2, 5], [3, 6]]\n"
     ]
    }
   ],
   "source": [
    "grid = [[1, 2, 3], [4, 5, 6]]\n",
    "w = len(grid[0])\n",
    "h = len(grid)\n",
    "grid2 = [[0 for e in range(h)] for _ in range(w)]\n",
    "for i, e in enumerate(grid):\n",
    "    for j, n in enumerate(e):\n",
    "        grid2[j][i] = n\n",
    "print(grid2)\n",
    "        "
   ]
  },
  {
   "cell_type": "code",
   "execution_count": null,
   "metadata": {},
   "outputs": [],
   "source": []
  },
  {
   "cell_type": "code",
   "execution_count": 214,
   "metadata": {},
   "outputs": [
    {
     "data": {
      "text/plain": [
       "[[1, 4], [2, 5], [3, 6]]"
      ]
     },
     "execution_count": 214,
     "metadata": {},
     "output_type": "execute_result"
    }
   ],
   "source": [
    "\n",
    "def transparent(grid):\n",
    "    w = len(grid[0])\n",
    "    h = len(grid)\n",
    "    grid2 = [[0 for e in range(h)] for _ in range(w)]\n",
    "    for i, e in enumerate(grid):\n",
    "        for j, n in enumerate(e):\n",
    "            grid2[j][i] = n\n",
    "    return grid2\n",
    "\n",
    "grid = [[1, 2, 3], [4, 5, 6]]\n",
    "transparent(grid)"
   ]
  },
  {
   "cell_type": "code",
   "execution_count": null,
   "metadata": {},
   "outputs": [],
   "source": []
  },
  {
   "cell_type": "code",
   "execution_count": null,
   "metadata": {},
   "outputs": [],
   "source": []
  },
  {
   "cell_type": "code",
   "execution_count": null,
   "metadata": {},
   "outputs": [],
   "source": []
  }
 ],
 "metadata": {
  "kernelspec": {
   "display_name": "Python 3",
   "language": "python",
   "name": "python3"
  },
  "language_info": {
   "codemirror_mode": {
    "name": "ipython",
    "version": 3
   },
   "file_extension": ".py",
   "mimetype": "text/x-python",
   "name": "python",
   "nbconvert_exporter": "python",
   "pygments_lexer": "ipython3",
   "version": "3.7.9"
  }
 },
 "nbformat": 4,
 "nbformat_minor": 4
}
