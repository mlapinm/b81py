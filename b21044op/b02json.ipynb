{
 "cells": [
  {
   "cell_type": "code",
   "execution_count": 96,
   "metadata": {},
   "outputs": [
    {
     "name": "stderr",
     "output_type": "stream",
     "text": [
      "WARNING: Ignoring invalid distribution -atplotlib (c:\\python37\\lib\\site-packages)\n",
      "WARNING: Ignoring invalid distribution -atplotlib (c:\\python37\\lib\\site-packages)\n",
      "ERROR: Could not find a version that satisfies the requirement yaml (from versions: none)\n",
      "ERROR: No matching distribution found for yaml\n",
      "WARNING: Ignoring invalid distribution -atplotlib (c:\\python37\\lib\\site-packages)\n",
      "WARNING: Ignoring invalid distribution -atplotlib (c:\\python37\\lib\\site-packages)\n",
      "WARNING: Ignoring invalid distribution -atplotlib (c:\\python37\\lib\\site-packages)\n",
      "WARNING: You are using pip version 21.2.4; however, version 22.0.3 is available.\n",
      "You should consider upgrading via the 'c:\\python37\\python.exe -m pip install --upgrade pip' command.\n"
     ]
    }
   ],
   "source": [
    "!pip install yaml"
   ]
  },
  {
   "cell_type": "code",
   "execution_count": 25,
   "metadata": {},
   "outputs": [],
   "source": [
    "\n"
   ]
  },
  {
   "cell_type": "code",
   "execution_count": 37,
   "metadata": {},
   "outputs": [
    {
     "name": "stdout",
     "output_type": "stream",
     "text": [
      "{'a1': 1, 'a2': 2}\n"
     ]
    }
   ],
   "source": [
    "import yaml\n",
    "\n",
    "s = '''\n",
    "- a1: 1\n",
    "  a2: 2\n",
    "- a1: 4\n",
    "  a2: 5\n",
    "'''\n",
    "\n",
    "s2 = yaml.safe_load(s)\n",
    "print(s2[0])"
   ]
  },
  {
   "cell_type": "code",
   "execution_count": 38,
   "metadata": {},
   "outputs": [
    {
     "name": "stdout",
     "output_type": "stream",
     "text": [
      "\n"
     ]
    }
   ],
   "source": [
    "print()\n"
   ]
  },
  {
   "cell_type": "code",
   "execution_count": 41,
   "metadata": {},
   "outputs": [
    {
     "name": "stdout",
     "output_type": "stream",
     "text": [
      "<title id=\"id_01\">begin text</title>\n"
     ]
    }
   ],
   "source": [
    "import xml.etree.ElementTree as et\n",
    "class XmlInfo():\n",
    "    def __init__(self, title):       \n",
    "        self.obj = et.Element(title)\n",
    "    def set_text(self, text):\n",
    "        self.obj.text = text\n",
    "    def set_id(self, id):\n",
    "        self.obj.attrib={'id': id}\n",
    "    def get_text(self):\n",
    "        return et.tostring(self.obj).decode()\n",
    "        \n",
    "class XmlFactory():\n",
    "    def create_obj(self, text):\n",
    "        return XmlInfo(text)\n",
    "    \n",
    "    def set_text(self, text):\n",
    "        return text\n",
    "\n",
    "def create_obj(factory):\n",
    "    obj = factory.create_obj('title')\n",
    "    text = factory.set_text('begin text')\n",
    "    obj.set_text(text)\n",
    "    obj.set_id('id_01')\n",
    "    return obj\n",
    "\n",
    "factory = XmlFactory()\n",
    "xmlInfo = create_obj(factory)\n",
    "res = xmlInfo.get_text()\n",
    "print(res)"
   ]
  },
  {
   "cell_type": "code",
   "execution_count": 57,
   "metadata": {},
   "outputs": [
    {
     "name": "stdout",
     "output_type": "stream",
     "text": [
      "aa\n",
      "bb\n"
     ]
    }
   ],
   "source": [
    "class WordFactory():\n",
    "  @classmethod\n",
    "  def get_word(Class):\n",
    "    return Class.Word()\n",
    "\n",
    "  @classmethod \n",
    "  def get_sentense(Class):\n",
    "    return Class.Sentense()\n",
    "\n",
    "  @classmethod\n",
    "  def get_translate(Class):\n",
    "    return Class.Translate()  \n",
    "\n",
    "class Word1Factory(WordFactory):\n",
    "  class Word:\n",
    "    def __init__(self):\n",
    "      self.text = 'aa'\n",
    "\n",
    "def create_word(factory):\n",
    "  return factory.get_word()\n",
    "\n",
    "class Word2Factory(WordFactory):\n",
    "  class Word:\n",
    "    def __init__(self):\n",
    "      self.text = 'bb'\n",
    "\n",
    "def create_word(factory):\n",
    "  return factory.get_word()\n",
    "\n",
    "word1 = create_word(Word1Factory)\n",
    "print(word1.text)\n",
    "word2 = create_word(Word2Factory)\n",
    "print(word2.text)\n"
   ]
  },
  {
   "cell_type": "code",
   "execution_count": 62,
   "metadata": {},
   "outputs": [
    {
     "name": "stdout",
     "output_type": "stream",
     "text": [
      "cc\n"
     ]
    }
   ],
   "source": [
    "class WordFactory():\n",
    "  @classmethod\n",
    "  def get_word(Class):\n",
    "    return Class.Word()\n",
    "\n",
    "class Word1Factory(WordFactory):\n",
    "  class Word():\n",
    "    def __init__(self):\n",
    "      self.text = 'cc'\n",
    "\n",
    "def get_word(WordFactory):\n",
    "  return WordFactory.get_word()\n",
    "\n",
    "word1 = get_word(Word1Factory)\n",
    "res = word1.text\n",
    "print(res)"
   ]
  }
 ],
 "metadata": {
  "kernelspec": {
   "display_name": "Python 3",
   "language": "python",
   "name": "python3"
  },
  "language_info": {
   "codemirror_mode": {
    "name": "ipython",
    "version": 3
   },
   "file_extension": ".py",
   "mimetype": "text/x-python",
   "name": "python",
   "nbconvert_exporter": "python",
   "pygments_lexer": "ipython3",
   "version": "3.7.9"
  }
 },
 "nbformat": 4,
 "nbformat_minor": 2
}
