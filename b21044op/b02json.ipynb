{
 "cells": [
  {
   "cell_type": "code",
   "execution_count": 96,
   "metadata": {},
   "outputs": [
    {
     "name": "stderr",
     "output_type": "stream",
     "text": [
      "WARNING: Ignoring invalid distribution -atplotlib (c:\\python37\\lib\\site-packages)\n",
      "WARNING: Ignoring invalid distribution -atplotlib (c:\\python37\\lib\\site-packages)\n",
      "ERROR: Could not find a version that satisfies the requirement yaml (from versions: none)\n",
      "ERROR: No matching distribution found for yaml\n",
      "WARNING: Ignoring invalid distribution -atplotlib (c:\\python37\\lib\\site-packages)\n",
      "WARNING: Ignoring invalid distribution -atplotlib (c:\\python37\\lib\\site-packages)\n",
      "WARNING: Ignoring invalid distribution -atplotlib (c:\\python37\\lib\\site-packages)\n",
      "WARNING: You are using pip version 21.2.4; however, version 22.0.3 is available.\n",
      "You should consider upgrading via the 'c:\\python37\\python.exe -m pip install --upgrade pip' command.\n"
     ]
    }
   ],
   "source": [
    "!pip install yaml"
   ]
  },
  {
   "cell_type": "code",
   "execution_count": 25,
   "metadata": {},
   "outputs": [],
   "source": [
    "\n"
   ]
  },
  {
   "cell_type": "code",
   "execution_count": 37,
   "metadata": {},
   "outputs": [
    {
     "name": "stdout",
     "output_type": "stream",
     "text": [
      "{'a1': 1, 'a2': 2}\n"
     ]
    }
   ],
   "source": [
    "import yaml\n",
    "\n",
    "s = '''\n",
    "- a1: 1\n",
    "  a2: 2\n",
    "- a1: 4\n",
    "  a2: 5\n",
    "'''\n",
    "\n",
    "s2 = yaml.safe_load(s)\n",
    "print(s2[0])"
   ]
  },
  {
   "cell_type": "code",
   "execution_count": 8,
   "metadata": {},
   "outputs": [
    {
     "name": "stdout",
     "output_type": "stream",
     "text": [
      "\n"
     ]
    },
    {
     "data": {
      "text/plain": [
       "['AliasEvent',\n",
       " 'AliasToken',\n",
       " 'AnchorToken',\n",
       " 'BaseDumper',\n",
       " 'BaseLoader',\n",
       " 'BlockEndToken',\n",
       " 'BlockEntryToken',\n",
       " 'BlockMappingStartToken',\n",
       " 'BlockSequenceStartToken',\n",
       " 'CBaseDumper',\n",
       " 'CBaseLoader',\n",
       " 'CDumper',\n",
       " 'CFullLoader',\n",
       " 'CLoader',\n",
       " 'CSafeDumper',\n",
       " 'CSafeLoader',\n",
       " 'CUnsafeLoader',\n",
       " 'CollectionEndEvent',\n",
       " 'CollectionNode',\n",
       " 'CollectionStartEvent',\n",
       " 'DirectiveToken',\n",
       " 'DocumentEndEvent',\n",
       " 'DocumentEndToken',\n",
       " 'DocumentStartEvent',\n",
       " 'DocumentStartToken',\n",
       " 'Dumper',\n",
       " 'Event',\n",
       " 'FlowEntryToken',\n",
       " 'FlowMappingEndToken',\n",
       " 'FlowMappingStartToken',\n",
       " 'FlowSequenceEndToken',\n",
       " 'FlowSequenceStartToken',\n",
       " 'FullLoader',\n",
       " 'KeyToken',\n",
       " 'Loader',\n",
       " 'MappingEndEvent',\n",
       " 'MappingNode',\n",
       " 'MappingStartEvent',\n",
       " 'Mark',\n",
       " 'MarkedYAMLError',\n",
       " 'Node',\n",
       " 'NodeEvent',\n",
       " 'SafeDumper',\n",
       " 'SafeLoader',\n",
       " 'ScalarEvent',\n",
       " 'ScalarNode',\n",
       " 'ScalarToken',\n",
       " 'SequenceEndEvent',\n",
       " 'SequenceNode',\n",
       " 'SequenceStartEvent',\n",
       " 'StreamEndEvent',\n",
       " 'StreamEndToken',\n",
       " 'StreamStartEvent',\n",
       " 'StreamStartToken',\n",
       " 'TagToken',\n",
       " 'Token',\n",
       " 'UnsafeLoader',\n",
       " 'ValueToken',\n",
       " 'YAMLError',\n",
       " 'YAMLObject',\n",
       " 'YAMLObjectMetaclass',\n",
       " '__builtins__',\n",
       " '__cached__',\n",
       " '__doc__',\n",
       " '__file__',\n",
       " '__loader__',\n",
       " '__name__',\n",
       " '__package__',\n",
       " '__path__',\n",
       " '__spec__',\n",
       " '__version__',\n",
       " '__with_libyaml__',\n",
       " '_yaml',\n",
       " 'add_constructor',\n",
       " 'add_implicit_resolver',\n",
       " 'add_multi_constructor',\n",
       " 'add_multi_representer',\n",
       " 'add_path_resolver',\n",
       " 'add_representer',\n",
       " 'compose',\n",
       " 'compose_all',\n",
       " 'composer',\n",
       " 'constructor',\n",
       " 'cyaml',\n",
       " 'dump',\n",
       " 'dump_all',\n",
       " 'dumper',\n",
       " 'emit',\n",
       " 'emitter',\n",
       " 'error',\n",
       " 'events',\n",
       " 'full_load',\n",
       " 'full_load_all',\n",
       " 'io',\n",
       " 'load',\n",
       " 'load_all',\n",
       " 'loader',\n",
       " 'nodes',\n",
       " 'parse',\n",
       " 'parser',\n",
       " 'reader',\n",
       " 'representer',\n",
       " 'resolver',\n",
       " 'safe_dump',\n",
       " 'safe_dump_all',\n",
       " 'safe_load',\n",
       " 'safe_load_all',\n",
       " 'scan',\n",
       " 'scanner',\n",
       " 'serialize',\n",
       " 'serialize_all',\n",
       " 'serializer',\n",
       " 'tokens',\n",
       " 'unsafe_load',\n",
       " 'unsafe_load_all',\n",
       " 'warnings']"
      ]
     },
     "execution_count": 8,
     "metadata": {},
     "output_type": "execute_result"
    }
   ],
   "source": [
    "print()\n",
    "dir(yaml)"
   ]
  },
  {
   "cell_type": "code",
   "execution_count": 93,
   "metadata": {},
   "outputs": [
    {
     "name": "stdout",
     "output_type": "stream",
     "text": [
      "<title id=\"id_01\">begin text</title>\n"
     ]
    }
   ],
   "source": [
    "class XmlInfo():\n",
    "    def __init__(self, title):       \n",
    "        self.obj = et.Element(title)\n",
    "    def set_text(self, text):\n",
    "        self.obj.text = text\n",
    "    def set_id(self, id):\n",
    "        self.obj.attrib={'id': id}\n",
    "    def get_text(self):\n",
    "        return et.tostring(self.obj).decode()\n",
    "        \n",
    "class XmlFactory():\n",
    "    def create_obj(self, text):\n",
    "        return XmlInfo(text)\n",
    "    \n",
    "    def set_text(self, text):\n",
    "        return text\n",
    "\n",
    "def create_obj(factory):\n",
    "    obj = factory.create_obj('title')\n",
    "    text = factory.set_text('begin text')\n",
    "    obj.set_text(text)\n",
    "    obj.set_id('id_01')\n",
    "    return obj\n",
    "\n",
    "factory = XmlFactory()\n",
    "xmlInfo = create_obj(factory)\n",
    "res = xmlInfo.get_text()\n",
    "print(res)"
   ]
  }
 ],
 "metadata": {
  "kernelspec": {
   "display_name": "Python 3",
   "language": "python",
   "name": "python3"
  },
  "language_info": {
   "codemirror_mode": {
    "name": "ipython",
    "version": 3
   },
   "file_extension": ".py",
   "mimetype": "text/x-python",
   "name": "python",
   "nbconvert_exporter": "python",
   "pygments_lexer": "ipython3",
   "version": "3.7.9"
  }
 },
 "nbformat": 4,
 "nbformat_minor": 2
}
