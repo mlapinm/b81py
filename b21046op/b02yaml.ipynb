{
 "cells": [
  {
   "cell_type": "code",
   "execution_count": null,
   "metadata": {},
   "outputs": [],
   "source": []
  },
  {
   "cell_type": "markdown",
   "metadata": {},
   "source": [
    "https://pyyaml.org/wiki/PyYAMLDocumentation"
   ]
  },
  {
   "cell_type": "code",
   "execution_count": 25,
   "metadata": {},
   "outputs": [],
   "source": [
    "!pip install pyyaml==3.13\n"
   ]
  },
  {
   "cell_type": "code",
   "execution_count": 1,
   "metadata": {},
   "outputs": [
    {
     "name": "stdout",
     "output_type": "stream",
     "text": [
      "{'a1': 1, 'a2': 2}\n"
     ]
    }
   ],
   "source": [
    "import yaml\n",
    "\n",
    "s = '''\n",
    "- a1: 1\n",
    "  a2: 2\n",
    "- a1: 4\n",
    "  a2: 5\n",
    "'''\n",
    "\n",
    "s2 = yaml.load(s)\n",
    "print(s2[0])"
   ]
  },
  {
   "cell_type": "code",
   "execution_count": null,
   "metadata": {},
   "outputs": [],
   "source": []
  },
  {
   "cell_type": "code",
   "execution_count": 30,
   "metadata": {},
   "outputs": [
    {
     "name": "stdout",
     "output_type": "stream",
     "text": [
      "{'aa': {'factory': 'assassin', 'name': '7NaGiBaToR7'}}\n"
     ]
    }
   ],
   "source": [
    "import yaml\n",
    "hero_yaml = '''\n",
    "aa:\n",
    "  factory: assassin\n",
    "  name:   7NaGiBaToR7\n",
    "'''\n",
    "s2 = yaml.load(hero_yaml)\n",
    "print(s2)"
   ]
  },
  {
   "cell_type": "code",
   "execution_count": 40,
   "metadata": {},
   "outputs": [],
   "source": [
    "import yaml\n",
    "\n",
    "factory = ''\n",
    "\n",
    "hero_yaml = '''\n",
    "factory: assassin\n",
    "name: 7NaGiBaToR7\n",
    "'''\n",
    "\n",
    "\n",
    "\n",
    "hero = yaml.load(hero_yaml)\n"
   ]
  },
  {
   "cell_type": "markdown",
   "metadata": {},
   "source": [
    "### 4.3.2 Использование YAML для конфигурирования паттерна"
   ]
  },
  {
   "cell_type": "code",
   "execution_count": 41,
   "metadata": {},
   "outputs": [],
   "source": [
    "import yaml\n",
    "hero_yaml = '''\n",
    "--- !Character\n",
    "factory:\n",
    "  !factory assassin\n",
    "name:\n",
    "  7NaGiBaToR7\n",
    "'''\n"
   ]
  },
  {
   "cell_type": "code",
   "execution_count": 43,
   "metadata": {},
   "outputs": [],
   "source": [
    "class Monster(yaml.YAMLObject):\n",
    "  yaml_tag = u'!Monster'\n",
    "  def __init__(self, name, hp, ac, attacks):\n",
    "    self.name = name\n",
    "    self.hp = hp\n",
    "    self.ac = ac\n",
    "    self.attacks = attacks\n",
    "    def __repr__(self):\n",
    "      return \"%s(name=%r, hp=%r, ac=%r, attacks=%r)\" % (self.__class__.__name__, self.name, self.hp, self.ac, self.attacks)\n",
    "\n",
    "  monster =  yaml.load(\"\"\"\n",
    "--- !Monster\n",
    "name: Cave spider\n",
    "hp: [2,6]    # 2d6\n",
    "ac: 16\n",
    "attacks: [BITE, HURT]\n",
    "\"\"\")\n",
    "print(monster.name)"
   ]
  },
  {
   "cell_type": "code",
   "execution_count": 46,
   "metadata": {},
   "outputs": [
    {
     "name": "stdout",
     "output_type": "stream",
     "text": [
      "Cave spider\n"
     ]
    }
   ],
   "source": []
  },
  {
   "cell_type": "code",
   "execution_count": null,
   "metadata": {},
   "outputs": [],
   "source": []
  },
  {
   "cell_type": "code",
   "execution_count": null,
   "metadata": {},
   "outputs": [],
   "source": []
  }
 ],
 "metadata": {
  "kernelspec": {
   "display_name": "Python 3",
   "language": "python",
   "name": "python3"
  },
  "language_info": {
   "codemirror_mode": {
    "name": "ipython",
    "version": 3
   },
   "file_extension": ".py",
   "mimetype": "text/x-python",
   "name": "python",
   "nbconvert_exporter": "python",
   "pygments_lexer": "ipython3",
   "version": "3.7.9"
  }
 },
 "nbformat": 4,
 "nbformat_minor": 2
}
