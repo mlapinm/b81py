{
 "cells": [
  {
   "cell_type": "markdown",
   "metadata": {},
   "source": [
    "https://regex101.com/"
   ]
  },
  {
   "cell_type": "code",
   "execution_count": 1,
   "metadata": {},
   "outputs": [
    {
     "name": "stdout",
     "output_type": "stream",
     "text": [
      "['123', '45', '6']\n"
     ]
    }
   ],
   "source": [
    "import re\n",
    "def find_all_digits(text):\n",
    "    exp = r'\\d+'  #Тут напишите своё регулярное выражение  \n",
    "    return re.findall(exp, text)\n",
    "\n",
    "text = 'a123b45с6d'\n",
    "match = find_all_digits(text)\n",
    "print(match)"
   ]
  },
  {
   "cell_type": "code",
   "execution_count": 8,
   "metadata": {},
   "outputs": [
    {
     "name": "stdout",
     "output_type": "stream",
     "text": [
      "['a']\n"
     ]
    }
   ],
   "source": [
    "\n",
    "def find_all_digits(text):\n",
    "    exp = r'^\\W\\d{2}\\s?\\.([abc\\d])\\1\\1$'  \n",
    "    return re.findall(exp, text)\n",
    "\n",
    "text = ',11 .aaa'\n",
    "match = find_all_digits(text)\n",
    "print(match)\n"
   ]
  }
 ],
 "metadata": {
  "kernelspec": {
   "display_name": "Python 3",
   "language": "python",
   "name": "python3"
  },
  "language_info": {
   "codemirror_mode": {
    "name": "ipython",
    "version": 3
   },
   "file_extension": ".py",
   "mimetype": "text/x-python",
   "name": "python",
   "nbconvert_exporter": "python",
   "pygments_lexer": "ipython3",
   "version": "3.7.9"
  }
 },
 "nbformat": 4,
 "nbformat_minor": 4
}
